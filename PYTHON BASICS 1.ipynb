{
 "cells": [
  {
   "cell_type": "code",
   "execution_count": 16,
   "id": "82dcd5cd",
   "metadata": {},
   "outputs": [
    {
     "name": "stdout",
     "output_type": "stream",
     "text": [
      "3,4,5,6\n"
     ]
    }
   ],
   "source": [
    "a=[int(i)for i in input().split(',')]\n",
    "\n"
   ]
  },
  {
   "cell_type": "code",
   "execution_count": 17,
   "id": "c128846c",
   "metadata": {
    "scrolled": true
   },
   "outputs": [
    {
     "name": "stdout",
     "output_type": "stream",
     "text": [
      "4\n",
      "6\n"
     ]
    }
   ],
   "source": [
    "for i in a:\n",
    "    if i % 2 == 0:\n",
    "             print(i)"
   ]
  },
  {
   "cell_type": "code",
   "execution_count": 1,
   "id": "8293070d",
   "metadata": {},
   "outputs": [
    {
     "name": "stdout",
     "output_type": "stream",
     "text": [
      "3,4,5,6\n"
     ]
    }
   ],
   "source": [
    "a=[int(i)for i in input().split(',')]\n"
   ]
  },
  {
   "cell_type": "code",
   "execution_count": 18,
   "id": "347f6b3f",
   "metadata": {},
   "outputs": [
    {
     "name": "stdout",
     "output_type": "stream",
     "text": [
      "18\n"
     ]
    }
   ],
   "source": [
    "sum=0\n",
    "for i in a:\n",
    "    sum=sum+i\n",
    "print(sum)"
   ]
  },
  {
   "cell_type": "code",
   "execution_count": null,
   "id": "2d0f6831",
   "metadata": {},
   "outputs": [],
   "source": [
    "a=int(input('enter any no.'))\n",
    "f=1\n",
    "for i in range(1,a+1):\n",
    "    f=f*i\n",
    "print(f)\n"
   ]
  },
  {
   "cell_type": "code",
   "execution_count": 1,
   "id": "f8a8ecad",
   "metadata": {},
   "outputs": [
    {
     "ename": "SyntaxError",
     "evalue": "invalid syntax (155816822.py, line 5)",
     "output_type": "error",
     "traceback": [
      "\u001b[1;36m  Cell \u001b[1;32mIn[1], line 5\u001b[1;36m\u001b[0m\n\u001b[1;33m    else:\u001b[0m\n\u001b[1;37m    ^\u001b[0m\n\u001b[1;31mSyntaxError\u001b[0m\u001b[1;31m:\u001b[0m invalid syntax\n"
     ]
    }
   ],
   "source": [
    "a=[2,3,7,8,10,12]\n",
    "for i in a:\n",
    "    if i%2==0:\n",
    "        print(prime)\n",
    "        else:\n",
    "            print(not prime)"
   ]
  },
  {
   "cell_type": "code",
   "execution_count": 7,
   "id": "d12eb61d",
   "metadata": {},
   "outputs": [
    {
     "name": "stdout",
     "output_type": "stream",
     "text": [
      "person is a teenager\n",
      "person is a teenager\n",
      "person is a teenager\n",
      "person is a teenager\n",
      "person is a teenager\n",
      "person is a teenager\n",
      "person is a teenager\n"
     ]
    }
   ],
   "source": [
    "for i in range(13,20):\n",
    "    print('person is a teenager')"
   ]
  },
  {
   "cell_type": "code",
   "execution_count": null,
   "id": "48f4e5b8",
   "metadata": {},
   "outputs": [],
   "source": [
    "a=int(input('enter any no.'))\n",
    "if 13>=a>=19:\n",
    "    print('person is a teenager')\n",
    "    else:\n",
    "        print('person is not a teenager')"
   ]
  },
  {
   "cell_type": "code",
   "execution_count": 2,
   "id": "8e5f1d6a",
   "metadata": {},
   "outputs": [
    {
     "name": "stdout",
     "output_type": "stream",
     "text": [
      "enter a number here:0\n",
      "enter a another number here:1\n",
      "1\n",
      "do you want to stop the program:no\n",
      "enter a number here:2\n",
      "enter a another number here:5\n",
      "7\n",
      "do you want to stop the program:yes\n"
     ]
    }
   ],
   "source": [
    "while True:\n",
    "    num1=int(input('enter a number here:'))\n",
    "    num2=int(input('enter a another number here:'))\n",
    "    print(num1+num2)\n",
    "    repeat=input('do you want to stop the program:')\n",
    "    if repeat=='yes':\n",
    "        break"
   ]
  },
  {
   "cell_type": "code",
   "execution_count": 5,
   "id": "4bf27620",
   "metadata": {},
   "outputs": [
    {
     "name": "stdout",
     "output_type": "stream",
     "text": [
      "1\n",
      "2\n",
      "3\n",
      "4\n"
     ]
    }
   ],
   "source": [
    "for i in range(1,11):\n",
    "    if i==5:\n",
    "        break\n",
    "    else:\n",
    "        print(i)"
   ]
  },
  {
   "cell_type": "code",
   "execution_count": 10,
   "id": "3121240f",
   "metadata": {},
   "outputs": [
    {
     "name": "stdout",
     "output_type": "stream",
     "text": [
      "650\n"
     ]
    }
   ],
   "source": [
    "count=0\n",
    "for i in range(1,51):\n",
    "    if i%2==0:\n",
    "        count=count+i\n",
    "print(count)"
   ]
  },
  {
   "cell_type": "code",
   "execution_count": 13,
   "id": "0ff65d23",
   "metadata": {},
   "outputs": [
    {
     "name": "stdout",
     "output_type": "stream",
     "text": [
      "1\n",
      "2\n",
      "3\n",
      "4\n",
      "5\n",
      "6\n",
      "7\n",
      "8\n",
      "9\n",
      "10\n",
      "11\n",
      "12\n",
      "13\n",
      "14\n",
      "15\n",
      "16\n",
      "17\n",
      "18\n",
      "19\n",
      "20\n",
      "1\n",
      "4\n",
      "9\n",
      "16\n",
      "25\n",
      "36\n",
      "49\n",
      "64\n",
      "81\n",
      "100\n",
      "121\n",
      "144\n",
      "169\n",
      "196\n",
      "225\n",
      "256\n",
      "289\n",
      "324\n",
      "361\n",
      "400\n"
     ]
    }
   ],
   "source": [
    "for i in range(1,21):\n",
    "    print(i)\n",
    "for i in range(1,21):\n",
    "    print(i**2)\n"
   ]
  },
  {
   "cell_type": "code",
   "execution_count": 14,
   "id": "92d55c9d",
   "metadata": {},
   "outputs": [
    {
     "name": "stdout",
     "output_type": "stream",
     "text": [
      "25\n"
     ]
    }
   ],
   "source": [
    "count=0\n",
    "for i in range(1,11):\n",
    "    if i%2!=0:\n",
    "        count+=i\n",
    "print(count)        \n",
    "    \n",
    "    "
   ]
  },
  {
   "cell_type": "code",
   "execution_count": null,
   "id": "1af883bb",
   "metadata": {},
   "outputs": [],
   "source": [
    "sum=0\n",
    "n=0\n",
    "while n<=10:\n",
    "    if n%2!=0:\n",
    "        sum+=n\n",
    "print(sum)\n",
    "    "
   ]
  },
  {
   "cell_type": "code",
   "execution_count": null,
   "id": "9279e467",
   "metadata": {},
   "outputs": [],
   "source": [
    "#project\n",
    "import random\n",
    "\n",
    "target = random.randint(1, 100)\n",
    "\n",
    "while True:\n",
    "    userinput = input(\"Guess the target or quit(q): \")\n",
    "    if userinput == 'q':\n",
    "        break\n",
    "    userinput = int(userinput)\n",
    "    if userinput == target:\n",
    "        print(\"Success: Correct Guess\")\n",
    "        break\n",
    "    elif userinput < target:\n",
    "        print(\"Your number was too small. Take a bigger guess.\")\n",
    "    else:\n",
    "        print(\"Your number was too big. Take a smaller guess.\")\n",
    "\n",
    "print(\"-------Game Over------\")"
   ]
  },
  {
   "cell_type": "code",
   "execution_count": null,
   "id": "a79cabb6",
   "metadata": {},
   "outputs": [],
   "source": []
  }
 ],
 "metadata": {
  "kernelspec": {
   "display_name": "Python 3 (ipykernel)",
   "language": "python",
   "name": "python3"
  },
  "language_info": {
   "codemirror_mode": {
    "name": "ipython",
    "version": 3
   },
   "file_extension": ".py",
   "mimetype": "text/x-python",
   "name": "python",
   "nbconvert_exporter": "python",
   "pygments_lexer": "ipython3",
   "version": "3.11.5"
  }
 },
 "nbformat": 4,
 "nbformat_minor": 5
}
